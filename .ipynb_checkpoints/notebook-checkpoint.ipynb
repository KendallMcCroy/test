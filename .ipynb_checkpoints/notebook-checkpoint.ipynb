{
 "cells": [
  {
   "cell_type": "code",
   "execution_count": 1,
   "id": "eaf5281b-23e9-47f2-8b38-36ecb2b05dcb",
   "metadata": {},
   "outputs": [
    {
     "data": {
      "text/plain": [
       "'Kendall'"
      ]
     },
     "execution_count": 1,
     "metadata": {},
     "output_type": "execute_result"
    }
   ],
   "source": [
    "a = \"Kendall\"\n",
    "a"
   ]
  },
  {
   "cell_type": "code",
   "execution_count": 2,
   "id": "44158529-1fbe-46db-85c9-80a51a1af508",
   "metadata": {},
   "outputs": [
    {
     "data": {
      "text/plain": [
       "'Kendall'"
      ]
     },
     "execution_count": 2,
     "metadata": {},
     "output_type": "execute_result"
    }
   ],
   "source": [
    "a"
   ]
  },
  {
   "cell_type": "code",
   "execution_count": 3,
   "id": "a09bd939-7d2e-4023-9904-776663f89354",
   "metadata": {},
   "outputs": [],
   "source": [
    "b = \"ugly\""
   ]
  },
  {
   "cell_type": "code",
   "execution_count": 4,
   "id": "37c7ffc6-baef-40b5-814e-4e50ed38f660",
   "metadata": {},
   "outputs": [
    {
     "data": {
      "text/plain": [
       "'ugly'"
      ]
     },
     "execution_count": 4,
     "metadata": {},
     "output_type": "execute_result"
    }
   ],
   "source": [
    "b"
   ]
  },
  {
   "cell_type": "code",
   "execution_count": 7,
   "id": "a769a1db-e925-49d1-a573-ebc0b495303f",
   "metadata": {},
   "outputs": [],
   "source": [
    "name = a + \" \" + b"
   ]
  },
  {
   "cell_type": "code",
   "execution_count": 8,
   "id": "11fa618b-c4c7-43de-8acf-81e31849779a",
   "metadata": {},
   "outputs": [
    {
     "data": {
      "text/plain": [
       "'Kendall ugly'"
      ]
     },
     "execution_count": 8,
     "metadata": {},
     "output_type": "execute_result"
    }
   ],
   "source": [
    "name"
   ]
  },
  {
   "cell_type": "code",
   "execution_count": null,
   "id": "ced68323-fb9f-488e-bd14-d8fe8400dd7f",
   "metadata": {},
   "outputs": [],
   "source": []
  }
 ],
 "metadata": {
  "kernelspec": {
   "display_name": "Python 3",
   "language": "python",
   "name": "python3"
  },
  "language_info": {
   "codemirror_mode": {
    "name": "ipython",
    "version": 3
   },
   "file_extension": ".py",
   "mimetype": "text/x-python",
   "name": "python",
   "nbconvert_exporter": "python",
   "pygments_lexer": "ipython3",
   "version": "3.8.8"
  }
 },
 "nbformat": 4,
 "nbformat_minor": 5
}
